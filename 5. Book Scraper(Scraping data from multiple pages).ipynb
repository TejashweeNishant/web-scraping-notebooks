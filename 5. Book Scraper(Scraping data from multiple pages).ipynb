{
 "cells": [
  {
   "cell_type": "code",
   "execution_count": 2,
   "id": "4ef483fd-6e07-411e-bd3d-373ee911353b",
   "metadata": {},
   "outputs": [],
   "source": [
    "import requests\n",
    "from bs4 import BeautifulSoup\n",
    "from tqdm import tqdm\n",
    "import pandas as pd"
   ]
  },
  {
   "cell_type": "code",
   "execution_count": 4,
   "id": "10708485-8536-4542-af9f-eb57832b5dd2",
   "metadata": {},
   "outputs": [],
   "source": [
    "link='https://books.toscrape.com/catalogue/page-1.html'\n",
    "res= requests.get(link)\n",
    "soup=BeautifulSoup(res.text,'html.parser')"
   ]
  },
  {
   "cell_type": "code",
   "execution_count": 6,
   "id": "01a8b13a-fd22-47bd-9652-b6a1eb560e47",
   "metadata": {},
   "outputs": [
    {
     "name": "stderr",
     "output_type": "stream",
     "text": [
      "100%|██████████████████████████████████████████████████████████████████████████████████| 50/50 [00:00<00:00, 73.12it/s]\n"
     ]
    }
   ],
   "source": [
    "data=[]\n",
    "for i in tqdm(range(1,51)):\n",
    "    for sp in soup.find_all('li',class_='col-xs-6 col-sm-4 col-md-3 col-lg-3'):\n",
    "        \n",
    "        link  = sp.find_all('a')[-1].get('href')\n",
    "        title = sp.find_all('a')[-1].get('title')\n",
    "        img_link = sp.find('img').get('src')\n",
    "        rating = sp.find('p').get('class')[-1]\n",
    "        price = sp.find('p',class_='price_color').text[2:]\n",
    "        stock=sp.find('p',class_='instock availability').text.strip()\n",
    "    \n",
    "        data.append([link,title,img_link,rating,price,stock])\n",
    "\n",
    "\n"
   ]
  },
  {
   "cell_type": "code",
   "execution_count": 8,
   "id": "cff24cea-fee4-4f60-9532-73b454c18917",
   "metadata": {},
   "outputs": [
    {
     "data": {
      "text/plain": [
       "1000"
      ]
     },
     "execution_count": 8,
     "metadata": {},
     "output_type": "execute_result"
    }
   ],
   "source": [
    "len(data)"
   ]
  },
  {
   "cell_type": "code",
   "execution_count": 16,
   "id": "1f8d3b04-8f96-4441-a350-baf2a44cd129",
   "metadata": {},
   "outputs": [],
   "source": [
    "df = pd.DataFrame(data, columns = ['link', 'title', 'img_link', 'rating', 'price','stock'])\n"
   ]
  },
  {
   "cell_type": "code",
   "execution_count": 18,
   "id": "ec674d5c-7913-456e-9667-c9387bced80a",
   "metadata": {},
   "outputs": [
    {
     "data": {
      "text/html": [
       "<div>\n",
       "<style scoped>\n",
       "    .dataframe tbody tr th:only-of-type {\n",
       "        vertical-align: middle;\n",
       "    }\n",
       "\n",
       "    .dataframe tbody tr th {\n",
       "        vertical-align: top;\n",
       "    }\n",
       "\n",
       "    .dataframe thead th {\n",
       "        text-align: right;\n",
       "    }\n",
       "</style>\n",
       "<table border=\"1\" class=\"dataframe\">\n",
       "  <thead>\n",
       "    <tr style=\"text-align: right;\">\n",
       "      <th></th>\n",
       "      <th>link</th>\n",
       "      <th>title</th>\n",
       "      <th>img_link</th>\n",
       "      <th>rating</th>\n",
       "      <th>price</th>\n",
       "      <th>stock</th>\n",
       "    </tr>\n",
       "  </thead>\n",
       "  <tbody>\n",
       "    <tr>\n",
       "      <th>0</th>\n",
       "      <td>a-light-in-the-attic_1000/index.html</td>\n",
       "      <td>A Light in the Attic</td>\n",
       "      <td>../media/cache/2c/da/2cdad67c44b002e7ead0cc356...</td>\n",
       "      <td>Three</td>\n",
       "      <td>51.77</td>\n",
       "      <td>In stock</td>\n",
       "    </tr>\n",
       "    <tr>\n",
       "      <th>1</th>\n",
       "      <td>tipping-the-velvet_999/index.html</td>\n",
       "      <td>Tipping the Velvet</td>\n",
       "      <td>../media/cache/26/0c/260c6ae16bce31c8f8c95dadd...</td>\n",
       "      <td>One</td>\n",
       "      <td>53.74</td>\n",
       "      <td>In stock</td>\n",
       "    </tr>\n",
       "    <tr>\n",
       "      <th>2</th>\n",
       "      <td>soumission_998/index.html</td>\n",
       "      <td>Soumission</td>\n",
       "      <td>../media/cache/3e/ef/3eef99c9d9adef34639f51066...</td>\n",
       "      <td>One</td>\n",
       "      <td>50.10</td>\n",
       "      <td>In stock</td>\n",
       "    </tr>\n",
       "    <tr>\n",
       "      <th>3</th>\n",
       "      <td>sharp-objects_997/index.html</td>\n",
       "      <td>Sharp Objects</td>\n",
       "      <td>../media/cache/32/51/3251cf3a3412f53f339e42cac...</td>\n",
       "      <td>Four</td>\n",
       "      <td>47.82</td>\n",
       "      <td>In stock</td>\n",
       "    </tr>\n",
       "    <tr>\n",
       "      <th>4</th>\n",
       "      <td>sapiens-a-brief-history-of-humankind_996/index...</td>\n",
       "      <td>Sapiens: A Brief History of Humankind</td>\n",
       "      <td>../media/cache/be/a5/bea5697f2534a2f86a3ef27b5...</td>\n",
       "      <td>Five</td>\n",
       "      <td>54.23</td>\n",
       "      <td>In stock</td>\n",
       "    </tr>\n",
       "  </tbody>\n",
       "</table>\n",
       "</div>"
      ],
      "text/plain": [
       "                                                link  \\\n",
       "0               a-light-in-the-attic_1000/index.html   \n",
       "1                  tipping-the-velvet_999/index.html   \n",
       "2                          soumission_998/index.html   \n",
       "3                       sharp-objects_997/index.html   \n",
       "4  sapiens-a-brief-history-of-humankind_996/index...   \n",
       "\n",
       "                                   title  \\\n",
       "0                   A Light in the Attic   \n",
       "1                     Tipping the Velvet   \n",
       "2                             Soumission   \n",
       "3                          Sharp Objects   \n",
       "4  Sapiens: A Brief History of Humankind   \n",
       "\n",
       "                                            img_link rating  price     stock  \n",
       "0  ../media/cache/2c/da/2cdad67c44b002e7ead0cc356...  Three  51.77  In stock  \n",
       "1  ../media/cache/26/0c/260c6ae16bce31c8f8c95dadd...    One  53.74  In stock  \n",
       "2  ../media/cache/3e/ef/3eef99c9d9adef34639f51066...    One  50.10  In stock  \n",
       "3  ../media/cache/32/51/3251cf3a3412f53f339e42cac...   Four  47.82  In stock  \n",
       "4  ../media/cache/be/a5/bea5697f2534a2f86a3ef27b5...   Five  54.23  In stock  "
      ]
     },
     "execution_count": 18,
     "metadata": {},
     "output_type": "execute_result"
    }
   ],
   "source": [
    "df.head()"
   ]
  },
  {
   "cell_type": "code",
   "execution_count": 20,
   "id": "29ae1a3e-e85f-45b7-a323-64ee786fe04c",
   "metadata": {},
   "outputs": [],
   "source": [
    "df.to_csv('books.csv', index = False)\n"
   ]
  }
 ],
 "metadata": {
  "kernelspec": {
   "display_name": "Python [conda env:base] *",
   "language": "python",
   "name": "conda-base-py"
  },
  "language_info": {
   "codemirror_mode": {
    "name": "ipython",
    "version": 3
   },
   "file_extension": ".py",
   "mimetype": "text/x-python",
   "name": "python",
   "nbconvert_exporter": "python",
   "pygments_lexer": "ipython3",
   "version": "3.12.7"
  }
 },
 "nbformat": 4,
 "nbformat_minor": 5
}
